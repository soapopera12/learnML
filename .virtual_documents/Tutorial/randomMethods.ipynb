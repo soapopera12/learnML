











import pandas as pd

data = {'Name': ['Alice', 'Bob', 'Charlie'], 'Age': [25, 30, 35]}
df = pd.DataFrame(data)

# Access the age of Bob
age_of_bob = df.loc[df['Name'] == 'Bob', 'Age'].values[0]
print(age_of_bob)  # accessing a single value


bob_row = df.loc[df['Name'] == 'Bob']
print(bob_row)   # accessing a row


older_than_25 = df.loc[df['Age'] > 25]   # accessing multiple rows


older_than_25_names_and_ages = df.loc[df['Age'] > 25, ['Name', 'Age']]  # accessing multiple columns


# combining condition
combined_condition = df.loc[(df['Age'] > 25) & (df['Name'].str.startswith('B'))]
combined_condition





import pandas as pd

data = {'Name': ['Alice', 'Bob', 'Charlie'], 'Age': [25, 30, 35]}
df = pd.DataFrame(data)

# Access the value at the first row and second column (Age of Alice)
value = df.iloc[0, 1]
print(value)  # Output: 25


# Access the first row (Alice's data)
row = df.iloc[0]
print(row)


# Access the first two rows
rows = df.iloc[0:2]
print(rows)


df[:2]








import glob


files = glob.glob("*.ipynb")


files


files = glob.glob("../**/*.ipynb", recursive=True)


files


## gc


import gc


thresholds = gc.get_threshold()
print(thresholds)


# free memory manually
gc.collect()





import logging


logging.basicConfig(filename='logs/app.log', filemode='w', level=logging.DEBUG)


logging.debug("This is a debug message")
logging.info("This is an info message")
logging.warning("This is a warning message")
logging.error("This is an error message")
logging.critical("This is a critical message")





import multiprocessing


def worker(num):
    """Thread worker function"""
    print(f'Worker: {num}')





if __name__ == '__main__':
    processes = []
    for i in range(5):
        p = multiprocessing.Process(target=worker, args=(i,))
        processes.append(p)
        p.start()
    
    for p in processes:
        p.join()





# will not work for some reason
# from multiprocessing import Pool

# def add(a, b):
#     return a + b

# if __name__ == '__main__':
#     with Pool(processes=1) as pool:
#         args = [(1, 2), (3, 4), (5, 6)]
#         results = pool.starmap(add, args)
#     print(results)








name = "Alice"
age = 30
# embed expressions inside string literals using curly braces {}
print(f'Name: {name}, Age: {age}')





# https://medium.com/aimonks/knee-plot-algorithms-standardizing-the-trade-off-dilemma-72f53afd6452

import numpy as np
import matplotlib.pyplot as plt
from sklearn.cluster import KMeans
from sklearn.datasets import make_blobs
from sklearn.metrics import silhouette_score
from kneed import KneeLocator

# Generating synthetic data with three blobs
X, _ = make_blobs(n_samples=300, centers=3, cluster_std=3.0, random_state=42)

# Varying the number of clusters from 2 to 10
k_values = range(3, 11)
silhouette_scores = []

# Calculating silhouette score for each value of k
for k in k_values:
    kmeans = KMeans(n_clusters=k, random_state=42)
    cluster_labels = kmeans.fit_predict(X)
    silhouette_scores.append(silhouette_score(X, cluster_labels))

# Finding the knee with Kneed!
knee = KneeLocator(k_values, silhouette_scores, curve='convex', direction='decreasing')
print("Knee Point:", knee.knee)

# Plotting the knee plot
plt.figure(figsize=(5,3))
plt.plot(k_values, silhouette_scores, marker='o')
plt.xlabel('Number of Clusters (k)')
plt.ylabel('Silhouette Score')
plt.title('Knee Plot: Silhouette Score vs. Number of Clusters')
plt.axvline(knee.knee, color="r", linestyle="--")
plt.grid(True)
plt.show()





import pandas as pd

# Sample data
data = [1, 2, 3, 4, 5, 6, 7, 8, 9, 10, 15, 20, 25]

# Create a pandas Series
data_series = pd.Series(data)

# Calculate Q1 (25th percentile) and Q3 (75th percentile)
# the values below which 25% of the data lie
Q1 = data_series.quantile(0.25)
# the values below which 75% of the data lie
Q3 = data_series.quantile(0.75)

# Calculate IQR
IQR = Q3 - Q1

# Calculate the upper bound
upper_bound = Q3 + 1.5 * IQR

print(f"Q1: {Q1}")
print(f"Q3: {Q3}")
print(f"IQR: {IQR}")
print(f"Upper Bound: {upper_bound}")






# Two lists
names = ['Alice', 'Bob', 'Charlie']
scores = [85, 90, 88]

# Combine them using zip
zipped = zip(names, scores)

# Convert the zip object to a list
zipped_list = list(zipped)

print(zipped_list)





import itertools

# Define the input iterables
num_neigh = [1, 2, 3]
batch_size = [32, 64]
epoches = [10, 20]

# Generate the Cartesian product
combinations = itertools.product(num_neigh, batch_size, epoches)

# Convert to list to see all combinations
combinations_list = list(combinations)

print(combinations_list)















