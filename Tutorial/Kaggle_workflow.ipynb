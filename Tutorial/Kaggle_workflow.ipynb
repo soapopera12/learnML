{
 "cells": [
  {
   "cell_type": "markdown",
   "id": "53153ab5-94c6-4749-be45-41091a299fb2",
   "metadata": {},
   "source": [
    "## **About data itself**"
   ]
  },
  {
   "cell_type": "markdown",
   "id": "aa564625-4667-4da5-bb6d-91106528ff65",
   "metadata": {},
   "source": [
    "Types of data\n",
    "\n",
    "1. Numerical data\n",
    "   \n",
    "   a. Continuous data: float64\n",
    "   \n",
    "   b. Discrete data: int64\n",
    "\n",
    "3. Categorical data\n",
    "   \n",
    "   a. Nominal data: category\n",
    "   \n",
    "   b. Ordinal data: category (organized)\n",
    "\n",
    "4. Time-series data: datetime64[ns]\n",
    "\n",
    "5. Text data: object\n",
    "\n",
    "6. Image data: uint8\n",
    "\n",
    "7. Audio data: float32 or int16\n",
    "\n",
    "8. Video data: uint8"
   ]
  },
  {
   "cell_type": "code",
   "execution_count": null,
   "id": "064c00cc-f8fa-4378-b938-8099b33f4629",
   "metadata": {},
   "outputs": [],
   "source": []
  },
  {
   "cell_type": "markdown",
   "id": "d1efe2ed-092f-4ea3-a6bd-c562ec4b395f",
   "metadata": {},
   "source": [
    "### How to generally go on about solving a ML task\n",
    "\n",
    "https://www.kaggle.com/code/startupsci/titanic-data-science-solutions\n",
    "\n",
    "1. Decide the dtypes of all the columns\n",
    "2. Check head and tail\n",
    "3. Get rid of blank, empty and null values in the dataset\n",
    "4. Do describe on numerical features only\n",
    "5. now do describe on string type of features using descrbe(include=['O'])\n",
    "6. Do correlation, correction, creation and classification"
   ]
  },
  {
   "cell_type": "code",
   "execution_count": null,
   "id": "46ae03e0-c1bc-4b6a-a300-97f5d1284dc2",
   "metadata": {},
   "outputs": [],
   "source": []
  },
  {
   "cell_type": "code",
   "execution_count": null,
   "id": "8033f1a3-80cf-48f4-81b9-1d0bbc6f58a4",
   "metadata": {},
   "outputs": [],
   "source": []
  },
  {
   "cell_type": "code",
   "execution_count": null,
   "id": "ec08e336-8025-443d-baa3-fffbfaa43362",
   "metadata": {},
   "outputs": [],
   "source": []
  },
  {
   "cell_type": "code",
   "execution_count": null,
   "id": "6c242ca4-65f1-445c-b712-5554fecd0b11",
   "metadata": {},
   "outputs": [],
   "source": []
  }
 ],
 "metadata": {
  "kernelspec": {
   "display_name": "Cuda118",
   "language": "python",
   "name": "cuda118"
  },
  "language_info": {
   "codemirror_mode": {
    "name": "ipython",
    "version": 3
   },
   "file_extension": ".py",
   "mimetype": "text/x-python",
   "name": "python",
   "nbconvert_exporter": "python",
   "pygments_lexer": "ipython3",
   "version": "3.12.3"
  }
 },
 "nbformat": 4,
 "nbformat_minor": 5
}
