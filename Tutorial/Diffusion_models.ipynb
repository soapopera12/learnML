{
 "cells": [
  {
   "cell_type": "markdown",
   "id": "36d46b5c-8d4f-4917-86a1-359c66c32f94",
   "metadata": {},
   "source": [
    "## Diffusion Models"
   ]
  },
  {
   "cell_type": "markdown",
   "id": "1f84e2f4-64c7-4376-b2ca-32f8ca6ced9c",
   "metadata": {},
   "source": [
    "https://erdem.pl/2023/11/step-by-step-visual-introduction-to-diffusion-models"
   ]
  },
  {
   "cell_type": "code",
   "execution_count": null,
   "id": "8322f360-aba5-4868-8e13-3278ee17084b",
   "metadata": {},
   "outputs": [],
   "source": []
  }
 ],
 "metadata": {
  "kernelspec": {
   "display_name": "Cuda118",
   "language": "python",
   "name": "cuda118"
  },
  "language_info": {
   "codemirror_mode": {
    "name": "ipython",
    "version": 3
   },
   "file_extension": ".py",
   "mimetype": "text/x-python",
   "name": "python",
   "nbconvert_exporter": "python",
   "pygments_lexer": "ipython3",
   "version": "3.12.3"
  }
 },
 "nbformat": 4,
 "nbformat_minor": 5
}
