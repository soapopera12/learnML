{
 "cells": [
  {
   "cell_type": "markdown",
   "metadata": {},
   "source": [
    "A Quick Guide to Understanding the Basics of Machine Learning\n",
    "\n",
    "This was created using blogs, my own understanding, and of course, ChatGPT. If you find any mistakes, please feel free to reach out."
   ]
  },
  {
   "cell_type": "markdown",
   "metadata": {
    "jp-MarkdownHeadingCollapsed": true
   },
   "source": [
    "### What is a derivative?"
   ]
  },
  {
   "cell_type": "markdown",
   "metadata": {},
   "source": [
    "A derivative of a function represents the rate at which a function's value changes as its input changes. In simpler terms, the derivative measures how a function's output changes in response to changes in its input.\n",
    "\n",
    "Let’s look at the formula\n",
    "\n",
    "$f'(x) = \\frac{df}{dx} = lim_{h \\rightarrow 0} \\frac{f(x+h) - f(x)}{h}$\n",
    "\n",
    "Also remember the formula of slope $= \\frac{y_2 - y_1}{x_2 - x_1}$\n",
    "\n",
    "h is the change in x, so basically the formula give you this slope of the secant line where $y_1$ = f(x) and $y_2$ =  f(x + h).\n",
    "\n",
    "Now once you have the slope of this line you can decide how much length you want to travel on this down this line. This ‘how much’ is basically learning rate.\n",
    "\n",
    "<div>\n",
    "  <img src=\"Images/derivation.png\" alt=\"secant line\" style=\"width: 500px; height: 300px;\">\n",
    "</div>"
   ]
  },
  {
   "cell_type": "markdown",
   "metadata": {
    "jp-MarkdownHeadingCollapsed": true
   },
   "source": [
    "### What are the rules of differentiation?"
   ]
  },
  {
   "cell_type": "markdown",
   "metadata": {},
   "source": [
    "1. Sum rule\n",
    "    \n",
    "    $\\frac{d}{dx}(f(x) + g(x)) = \\frac{df}{dx} + \\frac{dg}{dx}$\n",
    "    \n",
    "2. Product rule\n",
    "    \n",
    "    $\\frac{d}{dx}(f(x).g(x)) = \\frac{df}{dx}.g(x) + \\frac{dg}{dx}.f(x)$\n",
    "    \n",
    "3. Chain rule\n",
    "    \n",
    "    $\\frac{d}{dx}(g \\circ f)(x) = \\frac{d}{dx}(g(f(x)) = \\frac{dg}{dx} \\frac{df}{dx}$"
   ]
  },
  {
   "cell_type": "markdown",
   "metadata": {
    "jp-MarkdownHeadingCollapsed": true
   },
   "source": [
    "### That’s it, this math is fuckin enough to get you started for now you can skip linear algebra for now"
   ]
  },
  {
   "cell_type": "markdown",
   "metadata": {
    "jp-MarkdownHeadingCollapsed": true
   },
   "source": [
    "### Linear Algebra"
   ]
  },
  {
   "cell_type": "markdown",
   "metadata": {},
   "source": [
    "https://medium.com/infinity-aka-aseem/summarizing-the-essence-of-linear-algebra-336d38add643\n",
    "\n",
    "*Vector*\n",
    "    \n",
    "    In Machine learning we assume all vectors are rooted at the origin\n",
    "\n",
    "*Span*\n",
    "\n",
    "    The span of two vectors v and w is the set of all their linear combinations i.e. av + bw.\n",
    "\n",
    "*Matrix and linear transformation*\n",
    "\n",
    "    matrix vector multiplication is a simple way of telling what transformation a matrix does to a vector.\n",
    "\n",
    "*Determinant*\n",
    "\n",
    "    The factor by which the area of the basis vector is changed is called the determinant. This is because transformations tend to squish or stretch space\n",
    "\n",
    "*column space*\n",
    "\n",
    "*null space*\n",
    "\n",
    "*Rank*\n",
    "\n",
    "*non-square matrix*\n",
    "\n",
    "*Inverse matrix*\n",
    "\n",
    "*Column space*\n",
    "\n",
    "*Null space*\n",
    "\n",
    "*eigenvector and eigenvalue*\n",
    "    \n",
    "    For a transformation or a Matrix M there can be vector/vectors which only scale but do not change their direction (do not transform) these vectors are eigenvectors and the value by which they get scaled is called eigenvalue."
   ]
  },
  {
   "cell_type": "markdown",
   "metadata": {
    "jp-MarkdownHeadingCollapsed": true
   },
   "source": [
    "### Types of losses"
   ]
  },
  {
   "cell_type": "markdown",
   "metadata": {},
   "source": [
    "**Loss Types**\n",
    "\n",
    "- **MSE / L2**\n",
    "- **MAE / L1**\n",
    "- **RMSE**\n",
    "- **Huber loss = MAE + MSE**\n",
    "    \n",
    "    Robust to outliers\n",
    "    \n",
    "    $Huber = \\frac{1}{n}\\sum_{i=1}^n(y_i - \\hat{y_i})^2$                                    where  $y_i - \\hat{y_i} \\le \\delta$\n",
    "    \n",
    "    $Huber = \\frac{1}{n}\\sum_{i=1}^{n}\\delta (|y_i -\\hat{y_i}|-\\frac{1}{2}\\delta)$                 where $y_i - \\hat{y_i} > \\delta$\n",
    "    \n",
    "    $\\delta$ is the threshold hyperparameter parameter → you can set them manually\n",
    "    \n",
    "- **Binary Cross-Entropy Loss / Log Loss**\n",
    "    \n",
    "    only for dual classes\n",
    "    \n",
    "    $L(y,\\hat{y}) = -\\frac{1}{N}\\sum_{i=1}^{N}[y_i(log(\\hat{y_i})+(1-y_i)log(1-\\hat{y_i})]$\n",
    "    \n",
    "- **Categorical Cross-Entropy Loss**\n",
    "    \n",
    "    Categorical cross entropy is a loss function used in classification problems where each input belongs to one of multiple classes → softmax\n",
    "    \n",
    "    $L = -\\frac{1}{m} \\sum_{i=1}^{m}y_ilog(\\hat{y_i})$\n",
    "    \n",
    "    - m is the number of classes\n",
    "    - $y_i$ is the true label (one-hot encoded).\n",
    "    - $\\hat{y_i}$ the predicted probability for example i.\n",
    "    \n",
    "    example:\n",
    "    \n",
    "    Suppose y = [0, 1, 0] is the actual value for three classes (A, B, C) and it belongs to class B which is represented in one hot encoded form\n",
    "    \n",
    "    and model predicts $\\hat{y}$ = [0.2, 0.7, 0.1]\n",
    "    \n",
    "    L = - ( 0.Log(0.2) + 1.log(0.7) + 0.Log(0.1)            → yani ki jiska jitna jyada probability value x utna less log(x) value\n",
    "    \n",
    "    L = -Log(0.7)\n",
    "    \n",
    "    L = 0.357\n",
    "    \n",
    "- **Sparse categorical cross entropy**\n",
    "    \n",
    "    Sparse categorical cross entropy is similar to categorical cross entropy but is used when the true labels are provided as **integers** instead of one-hot encoded vectors\n",
    "    \n",
    "    $L = -log(\\hat{y_c})$\n",
    "    \n",
    "    $\\hat{y_c}$ is the predicted probability for true class c\n",
    "    \n",
    "    example:\n",
    "    \n",
    "    y = 1 the true label is given as an integer\n",
    "    \n",
    "    and model predicts $\\hat{y}$ = [0.2, 0.7, 0.1]\n",
    "    \n",
    "    L = -Log($\\hat{y_1}$)        here is the real value of y = 0 then we would have took log of $y_0$ \n",
    "    \n",
    "    L = -log(0.7)\n",
    "    \n",
    "    L = 0.357\n",
    "    \n",
    "    Cross Entropy Loss takes the target labels as One Hot Encoded Vectors, and this may not be feasible if you have many target classes, it is more efficient to represent the target labels as integers rather than one-hot encoded vectors and hence this is where Sparse Cross Entropy should be used. Another caveat — Sparse Cross Entropy should be used when your classes are mutually exclusive, that is, when one sample belongs to only one class, while Cross Entropy should be used when one sample can have multiple classes or labels are soft probabilities like [0.3, 0.7, 0.1].\n",
    "    \n",
    "- **Focal Loss**\n",
    "    \n",
    "    For large class imbalance\n",
    "    \n",
    "    Focal Loss focuses on hard-to-classify examples by down-weighting the loss assigned to well classified examples\n",
    "    \n",
    "    $FL(p_t) = -\\alpha_t(1 - p_t)^{\\gamma}log(p_t)$\n",
    "    \n",
    "    $p_t$ is the model’s estimated probability for true classes.\n",
    "    \n",
    "    $\\alpha_t$ is a balancing factor to address class imbalance.\n",
    "    \n",
    "    $\\gamma$ is a focusing parameter that adjusts the rate at which easy examples are down weighted"
   ]
  }
 ],
 "metadata": {
  "kernelspec": {
   "display_name": "Cuda118",
   "language": "python",
   "name": "cuda118"
  },
  "language_info": {
   "codemirror_mode": {
    "name": "ipython",
    "version": 3
   },
   "file_extension": ".py",
   "mimetype": "text/x-python",
   "name": "python",
   "nbconvert_exporter": "python",
   "pygments_lexer": "ipython3",
   "version": "3.12.3"
  }
 },
 "nbformat": 4,
 "nbformat_minor": 4
}
