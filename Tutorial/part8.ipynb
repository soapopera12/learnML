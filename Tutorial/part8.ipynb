{
 "cells": [
  {
   "cell_type": "markdown",
   "id": "a0718810-725f-4b22-b0da-e84926f5b24e",
   "metadata": {
    "jp-MarkdownHeadingCollapsed": true
   },
   "source": [
    "## Autoencoders"
   ]
  },
  {
   "cell_type": "markdown",
   "id": "39bb369f-e4df-48d2-a53c-fd4b30041f62",
   "metadata": {
    "vscode": {
     "languageId": "plaintext"
    }
   },
   "source": [
    "https://www.jeremyjordan.me/autoencoders/"
   ]
  },
  {
   "cell_type": "markdown",
   "id": "2843bbe3-e1a7-471f-a49b-ecbdf2c32e59",
   "metadata": {
    "jp-MarkdownHeadingCollapsed": true
   },
   "source": [
    "## VAE"
   ]
  },
  {
   "cell_type": "code",
   "execution_count": null,
   "id": "c2127254-28ca-4c7a-ae76-89a8d31eef4f",
   "metadata": {},
   "outputs": [],
   "source": []
  },
  {
   "cell_type": "markdown",
   "id": "3ace0f25-deb0-4da0-adff-5b6a7736b19a",
   "metadata": {},
   "source": [
    "## GAN"
   ]
  },
  {
   "cell_type": "markdown",
   "id": "72fd6998-4032-4da1-96c3-eb305fedf850",
   "metadata": {},
   "source": [
    "https://towardsdatascience.com/generative-adversarial-networks-explained-34472718707a"
   ]
  },
  {
   "cell_type": "markdown",
   "id": "55bd71ec-c391-4349-a846-96dd810f65cc",
   "metadata": {},
   "source": [
    "### Generate random variables"
   ]
  },
  {
   "cell_type": "markdown",
   "id": "ff571dfd-9766-46ca-9d70-ac68bc0fdbe8",
   "metadata": {},
   "source": [
    "#### Inverse transform method"
   ]
  },
  {
   "cell_type": "markdown",
   "id": "211fb5f1-b0dc-4d13-af20-8d1194e5bc56",
   "metadata": {},
   "source": [
    "### **Generative models**"
   ]
  },
  {
   "cell_type": "markdown",
   "id": "a8044a7a-320f-452e-9c36-fb1a5530be6d",
   "metadata": {},
   "source": [
    "#### **Probability Distribution of a vector**"
   ]
  },
  {
   "cell_type": "markdown",
   "id": "e3799e61-ff8d-4a0e-91bb-f04690d9478c",
   "metadata": {},
   "source": [
    "The probability distribution of a vector refers to the probabilities associated with the different possible outcomes\n",
    "(or values) that the vector can take.\n",
    "\n",
    "For a discrete vector\n",
    "\n",
    "For a discrete random vector $X=(X_1,X_2,…,X_n)$, the probability distribution can be described using a\n",
    "joint probability mass function(pmf), $P(X=x)$, which gives the probability that the vector X takes on a\n",
    "specific value x.\n",
    "\n",
    "**Calculation**\n",
    "\n",
    "Suppose $X=(X_1,X_2)$ where $X_1$​ and $X_2$ are binary random variables. If the joint distribution is given by:\n",
    "\n",
    "$P(X_1​=0,X_2​=0) = 10010 ​= 0.1$\n",
    "\n",
    "$P(X_1=0,X_2=1) = 20100 = 0.2 \\quad P(X_1​=0,X_2​=1) = 10020 ​= 0.2$\n",
    "\n",
    "$P(X_1=1,X_2=0) = 30100 = 0.3 \\quad P(X_1​=1,X_2​=0) = 10030​ = 0.3$\n",
    "\n",
    "$P(X_1=1,X_2=1) = 40100 = 0.4 \\quad P(X_1​=1,X_2​=1) = 10040 ​= 0.4$\n",
    "\n",
    "These probability values could be based emperical calculation but can also calculated using other ways\n",
    "\n",
    "This is the probability distribution of a vector"
   ]
  },
  {
   "cell_type": "markdown",
   "id": "abcd07b7-77b1-49e1-92fe-52bd215dcdaa",
   "metadata": {},
   "source": [
    "#### **Generate very complex random variables**"
   ]
  },
  {
   "cell_type": "markdown",
   "id": "b86032b4-6322-4d75-b280-fc551395b25b",
   "metadata": {},
   "source": [
    "Suppose that we are interested in generating black and white square images of dogs with a size of n by n pixels. \n",
    "\n",
    "We can reshape each data as a N=nxn dimensional vector (by stacking columns on top of each others) such that an image of dog can then be represented by a vector.\n",
    "\n",
    "we can say that the N dimensional vectors that effectively give something that look like a dog are distributed according to a very specific probability distribution over the entire N dimensional vector space\n",
    "\n",
    "Then, the problem of generating a new image of dog is equivalent to the problem of generating a new vector following the “dog probability distribution” over the N dimensional vector space. So we are, in fact, facing a problem of generating a random variable with respect to a specific probability distribution."
   ]
  },
  {
   "cell_type": "markdown",
   "id": "9ce5d8a5-8c93-40bb-adc6-bb5459fbb0b4",
   "metadata": {},
   "source": [
    "## Diffusion Models"
   ]
  },
  {
   "cell_type": "markdown",
   "id": "d109eb34-537d-4fa0-88f6-da22dcd9e713",
   "metadata": {},
   "source": [
    "https://erdem.pl/2023/11/step-by-step-visual-introduction-to-diffusion-models"
   ]
  }
 ],
 "metadata": {
  "kernelspec": {
   "display_name": "Cuda118",
   "language": "python",
   "name": "cuda118"
  },
  "language_info": {
   "codemirror_mode": {
    "name": "ipython",
    "version": 3
   },
   "file_extension": ".py",
   "mimetype": "text/x-python",
   "name": "python",
   "nbconvert_exporter": "python",
   "pygments_lexer": "ipython3",
   "version": "3.12.3"
  }
 },
 "nbformat": 4,
 "nbformat_minor": 5
}
