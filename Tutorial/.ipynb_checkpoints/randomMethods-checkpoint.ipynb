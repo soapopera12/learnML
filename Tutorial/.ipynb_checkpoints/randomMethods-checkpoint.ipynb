{
 "cells": [
  {
   "cell_type": "markdown",
   "id": "4ebc7527-9724-4a41-bc49-3a9611cc3338",
   "metadata": {},
   "source": [
    "## Chi-Square"
   ]
  },
  {
   "cell_type": "markdown",
   "id": "55f43e59-7734-401e-80ce-5853da2fc220",
   "metadata": {},
   "source": [
    "It is used to determine if there is significant association between two categorical variables.\n",
    "\n",
    "The null hypothesis (H₀) assumes that the variables are independent (no association).\n",
    "\n",
    "The alternative hypothesis (H₁) assumes that there is an association between the variables.\n",
    "\n",
    "Chi-Squared Statistic:\n",
    "\n",
    "$X^2 = \\sum{\\frac{(O_i - E_i)^2}{E_i}}$\n",
    "\n",
    "Where $O_i$ = Observed frequency in each cell\n",
    "\n",
    "and $E_i$ = Expected frequency in each cell \n",
    "\n",
    "degree of freedom:\n",
    "\n",
    "$df = (\\text{number of rows} - 1) \\times (\\text{number of columns} - 1) = (2 - 1) \\times (2 - 1) = 1$\n",
    "\n",
    "P-value:\n",
    "\n",
    "\n",
    "## Example:\n",
    "\n",
    "<table>\n",
    "    <tr><td></td><td>Chips</td><td>Cookies</td><td>Total</td></tr>\n",
    "    <tr><td>Male</td><td>20</td><td>10</td><td>30</td></tr>\n",
    "    <tr><td>Female</td><td>15</td><td>25</td><td>40</td></tr>\n",
    "    <tr><td>Total</td><td>35</td><td>35</td><td>70</td></tr>\n",
    "</table>\n",
    "\n",
    "<br>\n",
    "\n",
    "## Step 1: State the Hypotheses\n",
    "\n",
    "Null Hypothesis (H₀): There is no association between gender and snack preference (they are independent).\n",
    "\n",
    "Alternative Hypothesis (H₁): There is an association between gender and snack preference (they are not independent).\n",
    "\n",
    "## Step 2: Calculate Expected Frequencies\n",
    "\n",
    "The expected frequency for each cell is calculated using the formula:\n",
    "\n",
    "$E_{ij} = \\frac{(row \\ total \\ of \\ cell \\ i) \\times (column \\ total \\ of \\ cell \\ j)}{grand \\ total}$\n",
    "\n",
    "Expected Frequency for Each Cell\n",
    "\n",
    "1. Male, chip\n",
    "\n",
    "    $E_{ij} = \\frac{(\\text{Total for male)} \\times \\text{(Total for chips)}}{\\text{Grand total}} = \\frac{(30 \\times 35)}{70} = 15$ \n",
    "\n",
    "3. Male, Cookies\n",
    "\n",
    "    $E_{ij} = \\frac{(\\text{Total for male)} \\times \\text{(Total for cookies)}}{\\text{Grand total}} = \\frac{(30 \\times 35)}{70} = 15$ \n",
    "\n",
    "4. Female, Chip\n",
    "\n",
    "   $E_{ij} = \\frac{(\\text{Total for female)} \\times \\text{(Total for chips)}}{\\text{Grand total}} = \\frac{(30 \\times 35)}{70} = 20$ \n",
    "\n",
    "6. Female, Cookies\n",
    "\n",
    "   $E_{ij} = \\frac{(\\text{Total for female)} \\times \\text{(Total for cookies)}}{\\text{Grand total}} = \\frac{(30 \\times 35)}{70} = 20$\n",
    "\n",
    "So the expected frequency table looks like this:\n",
    "\n",
    "<table>\n",
    "<tr><td></td><td>Chips</td><td>Cookies</td><td>Total</td></tr>\n",
    "<tr><td>Male</td><td>20</td><td>10</td><td>30</td></tr>\n",
    "<tr><td>Female</td><td>15</td><td>25</td><td>40</td></tr>\n",
    "<tr><td>Total</td><td>35</td><td>35</td><td>70</td></tr>\n",
    "</table>\n",
    "\n",
    "<br>\n",
    "\n",
    "## Step 3: Calculate the Chi-Squared Statistic\n",
    "\n",
    "The Chi-squared statistic is calculated using the formula:\n",
    "\n",
    "$X^2 = \\sum{\\frac{(O_i - E_i)^2}{E_i}}$\n",
    "\n",
    "Where $O_i$ = Observed frequency in each cell\n",
    "\n",
    "and $E_i$ = Expected frequency in each cell \n",
    "\n",
    "1. For Male, Chips\n",
    "\n",
    "    $\\frac{(20 - 15)^2}{15} = \\frac{25}{15} \\approx {1.67}$\n",
    "   \n",
    "2. For Male, cookies\n",
    "\n",
    "    $\\frac{(20 - 15)^2}{15} = \\frac{25}{15} \\approx {1.67}$\n",
    "    \n",
    "3. For Female, chips\n",
    "\n",
    "    $\\frac{(15 − 20)^2}{20} = \\frac{25}{20} \\approx {1.25}$\n",
    "   \n",
    "4. For Female, cookies\n",
    "\n",
    "    $\\frac{(15 − 20)^2}{20} = \\frac{25}{20} \\approx {1.25}$\n",
    "\n",
    "\n",
    "Sum these values to get chi-squared statistics:\n",
    "\n",
    "$X^2 = 1.67+1.67+1.25+1.25 = 5.84$\n",
    "\n",
    "## Step 4: Determine the degree of freedom\n",
    "\n",
    "$df = (\\text{number of rows} - 1) \\times (\\text{number of columns} - 1) = (2 - 1) \\times (2 - 1) = 1$\n",
    "\n",
    "## Step 5: Finding the p-value\n",
    "\n",
    "Using a Chi-squared distribution table or a statistical software, you can find the p-value corresponding to the Chi-squared statistic of 5.84 with 1 degree of freedom.\n",
    "\n",
    "If you look up the critical value in a Chi-squared table for df = 1 at a significance level of 0.05, you'll find the critical value is approximately 3.841.\n",
    "\n",
    "Since 5.84 > 3.841, the p-value will be less than 0.05, leading you to reject the null hypothesis.\n",
    "\n",
    "<code>\n",
    "p_value = 1 - chi2.cdf(chi2_statistic, df)\n",
    "</code>"
   ]
  },
  {
   "cell_type": "markdown",
   "id": "aa7f1572-401a-41ad-8d0d-efd662f9a4bd",
   "metadata": {
    "jp-MarkdownHeadingCollapsed": true
   },
   "source": [
    "## **Label encoder vs Ordinal encoder**"
   ]
  },
  {
   "cell_type": "markdown",
   "id": "57343d9d-c7db-4f4c-97e3-307ed96f11c9",
   "metadata": {},
   "source": [
    "**Ordinal Encoder**\n",
    "\n",
    "When the categorical variable has a natural order or ranking among its categories (e.g., \"Low,\" \"Medium,\" \"High\").\n",
    "\n",
    "Encoding: Assigns integer values to the categories based on their order. For example, \"Low\" might be encoded as 0, \"Medium\" as 1, and \"High\" as 2."
   ]
  },
  {
   "cell_type": "markdown",
   "id": "a7b29f68-664d-4c17-8d10-cdd6f424633f",
   "metadata": {},
   "source": [
    "**Label Encoder**\n",
    "\n",
    "When the categorical variable does not have a natural order, and the categories are merely labels (e.g., \"Red,\" \"Blue,\" \"Green\").\n",
    "\n",
    "It basically creates a new column for each type and marks it 1 for that specific true value"
   ]
  },
  {
   "cell_type": "markdown",
   "id": "a87f382a-9d1e-4f7e-b507-583610699468",
   "metadata": {
    "jp-MarkdownHeadingCollapsed": true
   },
   "source": [
    "## .loc()"
   ]
  },
  {
   "cell_type": "code",
   "execution_count": 6,
   "id": "e0bff317-bf1b-49d0-9b24-16360b34f0dd",
   "metadata": {},
   "outputs": [
    {
     "name": "stdout",
     "output_type": "stream",
     "text": [
      "30\n"
     ]
    }
   ],
   "source": [
    "import pandas as pd\n",
    "\n",
    "data = {'Name': ['Alice', 'Bob', 'Charlie'], 'Age': [25, 30, 35]}\n",
    "df = pd.DataFrame(data)\n",
    "\n",
    "# Access the age of Bob\n",
    "age_of_bob = df.loc[df['Name'] == 'Bob', 'Age'].values[0]\n",
    "print(age_of_bob)  # accessing a single value"
   ]
  },
  {
   "cell_type": "code",
   "execution_count": 2,
   "id": "89a72128-7274-45ea-ae03-4afe494f7f08",
   "metadata": {},
   "outputs": [
    {
     "name": "stdout",
     "output_type": "stream",
     "text": [
      "  Name  Age\n",
      "1  Bob   30\n"
     ]
    }
   ],
   "source": [
    "bob_row = df.loc[df['Name'] == 'Bob']\n",
    "print(bob_row)   # accessing a row"
   ]
  },
  {
   "cell_type": "code",
   "execution_count": 3,
   "id": "ac220ebb-926a-45cb-9f36-57523b9e2db4",
   "metadata": {},
   "outputs": [],
   "source": [
    "older_than_25 = df.loc[df['Age'] > 25]   # accessing multiple rows"
   ]
  },
  {
   "cell_type": "code",
   "execution_count": 4,
   "id": "afa0b2a0-664d-467c-a387-b6a14807d89d",
   "metadata": {},
   "outputs": [],
   "source": [
    "older_than_25_names_and_ages = df.loc[df['Age'] > 25, ['Name', 'Age']]  # accessing multiple columns"
   ]
  },
  {
   "cell_type": "code",
   "execution_count": 5,
   "id": "d13abccb-33c0-42b3-88db-c830021ebc55",
   "metadata": {},
   "outputs": [
    {
     "data": {
      "text/html": [
       "<div>\n",
       "<style scoped>\n",
       "    .dataframe tbody tr th:only-of-type {\n",
       "        vertical-align: middle;\n",
       "    }\n",
       "\n",
       "    .dataframe tbody tr th {\n",
       "        vertical-align: top;\n",
       "    }\n",
       "\n",
       "    .dataframe thead th {\n",
       "        text-align: right;\n",
       "    }\n",
       "</style>\n",
       "<table border=\"1\" class=\"dataframe\">\n",
       "  <thead>\n",
       "    <tr style=\"text-align: right;\">\n",
       "      <th></th>\n",
       "      <th>Name</th>\n",
       "      <th>Age</th>\n",
       "    </tr>\n",
       "  </thead>\n",
       "  <tbody>\n",
       "    <tr>\n",
       "      <th>1</th>\n",
       "      <td>Bob</td>\n",
       "      <td>30</td>\n",
       "    </tr>\n",
       "  </tbody>\n",
       "</table>\n",
       "</div>"
      ],
      "text/plain": [
       "  Name  Age\n",
       "1  Bob   30"
      ]
     },
     "execution_count": 5,
     "metadata": {},
     "output_type": "execute_result"
    }
   ],
   "source": [
    "# combining condition\n",
    "combined_condition = df.loc[(df['Age'] > 25) & (df['Name'].str.startswith('B'))]\n",
    "combined_condition"
   ]
  },
  {
   "cell_type": "markdown",
   "id": "e506ad6a-9d7a-4a37-a7bc-52d1b28a7fab",
   "metadata": {
    "jp-MarkdownHeadingCollapsed": true
   },
   "source": [
    "## iloc()"
   ]
  },
  {
   "cell_type": "code",
   "execution_count": 7,
   "id": "e60c310d-2cef-4339-9f70-71fdbd49f2ce",
   "metadata": {},
   "outputs": [
    {
     "name": "stdout",
     "output_type": "stream",
     "text": [
      "25\n"
     ]
    }
   ],
   "source": [
    "import pandas as pd\n",
    "\n",
    "data = {'Name': ['Alice', 'Bob', 'Charlie'], 'Age': [25, 30, 35]}\n",
    "df = pd.DataFrame(data)\n",
    "\n",
    "# Access the value at the first row and second column (Age of Alice)\n",
    "value = df.iloc[0, 1]\n",
    "print(value)  # Output: 25"
   ]
  },
  {
   "cell_type": "code",
   "execution_count": 8,
   "id": "978a3a53-0a98-47b7-beee-6ef6a8dd51c9",
   "metadata": {},
   "outputs": [
    {
     "name": "stdout",
     "output_type": "stream",
     "text": [
      "Name    Alice\n",
      "Age        25\n",
      "Name: 0, dtype: object\n"
     ]
    }
   ],
   "source": [
    "# Access the first row (Alice's data)\n",
    "row = df.iloc[0]\n",
    "print(row)"
   ]
  },
  {
   "cell_type": "code",
   "execution_count": 9,
   "id": "2de0bbe4-aac2-4f72-8b5e-231e2d04f74b",
   "metadata": {},
   "outputs": [
    {
     "name": "stdout",
     "output_type": "stream",
     "text": [
      "    Name  Age\n",
      "0  Alice   25\n",
      "1    Bob   30\n"
     ]
    }
   ],
   "source": [
    "# Access the first two rows\n",
    "rows = df.iloc[0:2]\n",
    "print(rows)"
   ]
  },
  {
   "cell_type": "code",
   "execution_count": 11,
   "id": "5f185e77-f7c3-4b15-a88f-f47f275189fd",
   "metadata": {},
   "outputs": [
    {
     "data": {
      "text/html": [
       "<div>\n",
       "<style scoped>\n",
       "    .dataframe tbody tr th:only-of-type {\n",
       "        vertical-align: middle;\n",
       "    }\n",
       "\n",
       "    .dataframe tbody tr th {\n",
       "        vertical-align: top;\n",
       "    }\n",
       "\n",
       "    .dataframe thead th {\n",
       "        text-align: right;\n",
       "    }\n",
       "</style>\n",
       "<table border=\"1\" class=\"dataframe\">\n",
       "  <thead>\n",
       "    <tr style=\"text-align: right;\">\n",
       "      <th></th>\n",
       "      <th>Name</th>\n",
       "      <th>Age</th>\n",
       "    </tr>\n",
       "  </thead>\n",
       "  <tbody>\n",
       "    <tr>\n",
       "      <th>0</th>\n",
       "      <td>Alice</td>\n",
       "      <td>25</td>\n",
       "    </tr>\n",
       "    <tr>\n",
       "      <th>1</th>\n",
       "      <td>Bob</td>\n",
       "      <td>30</td>\n",
       "    </tr>\n",
       "  </tbody>\n",
       "</table>\n",
       "</div>"
      ],
      "text/plain": [
       "    Name  Age\n",
       "0  Alice   25\n",
       "1    Bob   30"
      ]
     },
     "execution_count": 11,
     "metadata": {},
     "output_type": "execute_result"
    }
   ],
   "source": [
    "df[:2]"
   ]
  },
  {
   "cell_type": "markdown",
   "id": "73d3f938-8e04-46e7-8e3c-853e38ef155c",
   "metadata": {
    "jp-MarkdownHeadingCollapsed": true
   },
   "source": [
    "## glob"
   ]
  },
  {
   "cell_type": "raw",
   "id": "db889894-af93-4b18-99a3-adc27f7cf4e9",
   "metadata": {},
   "source": [
    "The glob module in Python is used for pattern matching and file searching. It's very useful for finding all the file names that match a specified pattern."
   ]
  },
  {
   "cell_type": "code",
   "execution_count": 1,
   "id": "9094f3c0-3931-429c-a9eb-4ae93249beec",
   "metadata": {},
   "outputs": [],
   "source": [
    "import glob"
   ]
  },
  {
   "cell_type": "code",
   "execution_count": 8,
   "id": "4d8e1bd4-e4a0-420d-8dcd-76f49b28774a",
   "metadata": {},
   "outputs": [],
   "source": [
    "files = glob.glob(\"*.ipynb\")"
   ]
  },
  {
   "cell_type": "code",
   "execution_count": 9,
   "id": "43a4b4e3-d864-4fc1-aa91-964767add5b4",
   "metadata": {},
   "outputs": [
    {
     "data": {
      "text/plain": [
       "['part0.ipynb',\n",
       " 'part1.ipynb',\n",
       " 'part10.ipynb',\n",
       " 'part11.ipynb',\n",
       " 'part12.ipynb',\n",
       " 'part2.ipynb',\n",
       " 'part3.ipynb',\n",
       " 'part4.ipynb',\n",
       " 'part5.ipynb',\n",
       " 'part6.ipynb',\n",
       " 'part7.ipynb',\n",
       " 'part8.ipynb',\n",
       " 'part9.ipynb']"
      ]
     },
     "execution_count": 9,
     "metadata": {},
     "output_type": "execute_result"
    }
   ],
   "source": [
    "files"
   ]
  },
  {
   "cell_type": "code",
   "execution_count": 10,
   "id": "d3553f5e-e467-4252-a513-431ae9abed01",
   "metadata": {},
   "outputs": [],
   "source": [
    "files = glob.glob(\"../**/*.ipynb\", recursive=True)"
   ]
  },
  {
   "cell_type": "code",
   "execution_count": 11,
   "id": "0b9bef78-9ec5-4e98-9867-8a3c8605c77c",
   "metadata": {},
   "outputs": [
    {
     "data": {
      "text/plain": [
       "['..\\\\Tutorial\\\\part0.ipynb',\n",
       " '..\\\\Tutorial\\\\part1.ipynb',\n",
       " '..\\\\Tutorial\\\\part10.ipynb',\n",
       " '..\\\\Tutorial\\\\part11.ipynb',\n",
       " '..\\\\Tutorial\\\\part12.ipynb',\n",
       " '..\\\\Tutorial\\\\part2.ipynb',\n",
       " '..\\\\Tutorial\\\\part3.ipynb',\n",
       " '..\\\\Tutorial\\\\part4.ipynb',\n",
       " '..\\\\Tutorial\\\\part5.ipynb',\n",
       " '..\\\\Tutorial\\\\part6.ipynb',\n",
       " '..\\\\Tutorial\\\\part7.ipynb',\n",
       " '..\\\\Tutorial\\\\part8.ipynb',\n",
       " '..\\\\Tutorial\\\\part9.ipynb',\n",
       " '..\\\\Tutorial\\\\general_questions\\\\GeneralQuestions.ipynb',\n",
       " '..\\\\Tutorial\\\\Incremental Learning\\\\EWC.ipynb']"
      ]
     },
     "execution_count": 11,
     "metadata": {},
     "output_type": "execute_result"
    }
   ],
   "source": [
    "files"
   ]
  },
  {
   "cell_type": "code",
   "execution_count": 12,
   "id": "f3b671f5-85fc-4011-9861-74ca8bf33cc6",
   "metadata": {},
   "outputs": [],
   "source": [
    "## gc"
   ]
  },
  {
   "cell_type": "code",
   "execution_count": 13,
   "id": "f6a46fb1-dba3-450f-9fac-b2970510a668",
   "metadata": {},
   "outputs": [],
   "source": [
    "import gc"
   ]
  },
  {
   "cell_type": "code",
   "execution_count": 14,
   "id": "cfb06788-47e3-4267-961c-1364a92aea58",
   "metadata": {},
   "outputs": [
    {
     "name": "stdout",
     "output_type": "stream",
     "text": [
      "(700, 10, 10)\n"
     ]
    }
   ],
   "source": [
    "thresholds = gc.get_threshold()\n",
    "print(thresholds)"
   ]
  },
  {
   "cell_type": "code",
   "execution_count": 17,
   "id": "158dfec6-f8c6-400f-ac2e-b4141bae6d8d",
   "metadata": {},
   "outputs": [
    {
     "data": {
      "text/plain": [
       "0"
      ]
     },
     "execution_count": 17,
     "metadata": {},
     "output_type": "execute_result"
    }
   ],
   "source": [
    "# free memory manually\n",
    "gc.collect()"
   ]
  },
  {
   "cell_type": "markdown",
   "id": "139da316-6150-4bbd-895d-617a7c0923f5",
   "metadata": {
    "jp-MarkdownHeadingCollapsed": true
   },
   "source": [
    "## logging"
   ]
  },
  {
   "cell_type": "code",
   "execution_count": 32,
   "id": "0ccdeec1-c6a1-4709-b0eb-1a53f69bbd06",
   "metadata": {},
   "outputs": [],
   "source": [
    "import logging"
   ]
  },
  {
   "cell_type": "code",
   "execution_count": 33,
   "id": "a2736f13-3e19-48d5-8f86-d48c3309692e",
   "metadata": {},
   "outputs": [],
   "source": [
    "logging.basicConfig(filename='logs/app.log', filemode='w', level=logging.DEBUG)"
   ]
  },
  {
   "cell_type": "code",
   "execution_count": 34,
   "id": "ce0b3a17-b492-47d0-8e54-ac9401abad40",
   "metadata": {},
   "outputs": [
    {
     "name": "stderr",
     "output_type": "stream",
     "text": [
      "[2024-07-23 15:59:55,727] DEBUG in 1521143116: This is a debug message\n",
      "[2024-07-23 15:59:55,727] INFO in 1521143116: This is an info message\n",
      "[2024-07-23 15:59:55,731] WARNING in 1521143116: This is a warning message\n",
      "[2024-07-23 15:59:55,732] ERROR in 1521143116: This is an error message\n",
      "[2024-07-23 15:59:55,732] CRITICAL in 1521143116: This is a critical message\n"
     ]
    }
   ],
   "source": [
    "logging.debug(\"This is a debug message\")\n",
    "logging.info(\"This is an info message\")\n",
    "logging.warning(\"This is a warning message\")\n",
    "logging.error(\"This is an error message\")\n",
    "logging.critical(\"This is a critical message\")"
   ]
  },
  {
   "cell_type": "markdown",
   "id": "79aa080e-8d99-4a03-8b77-d48e687fc79f",
   "metadata": {
    "jp-MarkdownHeadingCollapsed": true
   },
   "source": [
    "## Multiprocessing"
   ]
  },
  {
   "cell_type": "code",
   "execution_count": 35,
   "id": "d96a1e40-7fc2-4692-bb8c-f252030229cf",
   "metadata": {},
   "outputs": [],
   "source": [
    "import multiprocessing"
   ]
  },
  {
   "cell_type": "code",
   "execution_count": 36,
   "id": "9d54a50b-30a7-43aa-92c4-6a90831faf9f",
   "metadata": {},
   "outputs": [],
   "source": [
    "def worker(num):\n",
    "    \"\"\"Thread worker function\"\"\"\n",
    "    print(f'Worker: {num}')"
   ]
  },
  {
   "cell_type": "raw",
   "id": "d3f5b28b-c01f-4ca0-a163-39ac2b234905",
   "metadata": {},
   "source": [
    "*\n",
    "if __name__ == '__main__':\n",
    "ensure that the script only runs when the current file is executing and not when it is being imported"
   ]
  },
  {
   "cell_type": "code",
   "execution_count": 42,
   "id": "1c6f050f-66bc-43a0-b29b-1bd851b8834c",
   "metadata": {},
   "outputs": [
    {
     "name": "stdout",
     "output_type": "stream",
     "text": [
      "[<Process name='Process-21' pid=11008 parent=8788 started>, <Process name='Process-22' pid=4376 parent=8788 started>, <Process name='Process-23' pid=2736 parent=8788 started>, <Process name='Process-24' pid=22232 parent=8788 started>, <Process name='Process-25' pid=23732 parent=8788 started>]\n"
     ]
    }
   ],
   "source": [
    "if __name__ == '__main__':\n",
    "    processes = []\n",
    "    for i in range(5):\n",
    "        p = multiprocessing.Process(target=worker, args=(i,))\n",
    "        processes.append(p)\n",
    "        p.start()\n",
    "    \n",
    "    for p in processes:\n",
    "        p.join()"
   ]
  },
  {
   "cell_type": "raw",
   "id": "1c567ed8-8d6b-4477-b4a5-11f7800b14aa",
   "metadata": {},
   "source": [
    "* \n",
    "Pooling of workers"
   ]
  },
  {
   "cell_type": "code",
   "execution_count": 3,
   "id": "dc616074-fb65-45ce-af4c-4f3bfc4370c6",
   "metadata": {},
   "outputs": [],
   "source": [
    "# will not work for some reason\n",
    "# from multiprocessing import Pool\n",
    "\n",
    "# def add(a, b):\n",
    "#     return a + b\n",
    "\n",
    "# if __name__ == '__main__':\n",
    "#     with Pool(processes=1) as pool:\n",
    "#         args = [(1, 2), (3, 4), (5, 6)]\n",
    "#         results = pool.starmap(add, args)\n",
    "#     print(results)"
   ]
  },
  {
   "cell_type": "raw",
   "id": "ad9062d9-91a6-4572-9f90-becc05b0b982",
   "metadata": {},
   "source": [
    "* \n",
    "Other things include\n",
    "multiprocessing.Queue allows you to share data between processes safely -> communication between processes\n",
    "multiprocessing.Pipe allows two-way communication between processes -> bi-directional communication between processes\n",
    "multiprocessing.Lock can be used to ensure that only one process prints to standard output at a time -> Synchronization\n",
    "multiprocessing.Value and multiprocessing.Array allow you to share data between processes -> Shared locks"
   ]
  },
  {
   "cell_type": "markdown",
   "id": "a6a2649c-5a45-48fc-ab02-6b6b2e7ebc52",
   "metadata": {
    "jp-MarkdownHeadingCollapsed": true
   },
   "source": [
    "## Using f-strings"
   ]
  },
  {
   "cell_type": "code",
   "execution_count": 2,
   "id": "d288143a-b58a-421e-9d5f-d8069333fb57",
   "metadata": {},
   "outputs": [
    {
     "name": "stdout",
     "output_type": "stream",
     "text": [
      "Name: Alice, Age: 30\n"
     ]
    }
   ],
   "source": [
    "name = \"Alice\"\n",
    "age = 30\n",
    "# embed expressions inside string literals using curly braces {}\n",
    "print(f'Name: {name}, Age: {age}')"
   ]
  },
  {
   "cell_type": "markdown",
   "id": "f4de156b-c0fb-4210-96c7-edca72e6f136",
   "metadata": {
    "jp-MarkdownHeadingCollapsed": true
   },
   "source": [
    "## Kneed"
   ]
  },
  {
   "cell_type": "code",
   "execution_count": 8,
   "id": "a7d52ee5-792c-482d-ad8a-f711fec95b77",
   "metadata": {},
   "outputs": [
    {
     "name": "stdout",
     "output_type": "stream",
     "text": [
      "Knee Point: 6\n"
     ]
    },
    {
     "data": {
      "image/png": "[encoded data removed]",
      "text/plain": [
       "<Figure size 500x300 with 1 Axes>"
      ]
     },
     "metadata": {},
     "output_type": "display_data"
    }
   ],
   "source": [
    "# https://medium.com/aimonks/knee-plot-algorithms-standardizing-the-trade-off-dilemma-72f53afd6452\n",
    "\n",
    "import numpy as np\n",
    "import matplotlib.pyplot as plt\n",
    "from sklearn.cluster import KMeans\n",
    "from sklearn.datasets import make_blobs\n",
    "from sklearn.metrics import silhouette_score\n",
    "from kneed import KneeLocator\n",
    "\n",
    "# Generating synthetic data with three blobs\n",
    "X, _ = make_blobs(n_samples=300, centers=3, cluster_std=3.0, random_state=42)\n",
    "\n",
    "# Varying the number of clusters from 2 to 10\n",
    "k_values = range(3, 11)\n",
    "silhouette_scores = []\n",
    "\n",
    "# Calculating silhouette score for each value of k\n",
    "for k in k_values:\n",
    "    kmeans = KMeans(n_clusters=k, random_state=42)\n",
    "    cluster_labels = kmeans.fit_predict(X)\n",
    "    silhouette_scores.append(silhouette_score(X, cluster_labels))\n",
    "\n",
    "# Finding the knee with Kneed!\n",
    "knee = KneeLocator(k_values, silhouette_scores, curve='convex', direction='decreasing')\n",
    "print(\"Knee Point:\", knee.knee)\n",
    "\n",
    "# Plotting the knee plot\n",
    "plt.figure(figsize=(5,3))\n",
    "plt.plot(k_values, silhouette_scores, marker='o')\n",
    "plt.xlabel('Number of Clusters (k)')\n",
    "plt.ylabel('Silhouette Score')\n",
    "plt.title('Knee Plot: Silhouette Score vs. Number of Clusters')\n",
    "plt.axvline(knee.knee, color=\"r\", linestyle=\"--\")\n",
    "plt.grid(True)\n",
    "plt.show()"
   ]
  },
  {
   "cell_type": "markdown",
   "id": "33fa44a0-c6cf-4b22-baaa-3428fb6bd1d2",
   "metadata": {
    "jp-MarkdownHeadingCollapsed": true
   },
   "source": [
    "## Interquartile Range (IQR)"
   ]
  },
  {
   "cell_type": "code",
   "execution_count": 11,
   "id": "f0f3e3f0-6770-4cd9-af01-cd90d3d4832a",
   "metadata": {},
   "outputs": [
    {
     "name": "stdout",
     "output_type": "stream",
     "text": [
      "Q1: 4.0\n",
      "Q3: 10.0\n",
      "IQR: 6.0\n",
      "Upper Bound: 19.0\n"
     ]
    }
   ],
   "source": [
    "import pandas as pd\n",
    "\n",
    "# Sample data\n",
    "data = [1, 2, 3, 4, 5, 6, 7, 8, 9, 10, 15, 20, 25]\n",
    "\n",
    "# Create a pandas Series\n",
    "data_series = pd.Series(data)\n",
    "\n",
    "# Calculate Q1 (25th percentile) and Q3 (75th percentile)\n",
    "# the values below which 25% of the data lie\n",
    "Q1 = data_series.quantile(0.25)\n",
    "# the values below which 75% of the data lie\n",
    "Q3 = data_series.quantile(0.75)\n",
    "\n",
    "# Calculate IQR\n",
    "IQR = Q3 - Q1\n",
    "\n",
    "# Calculate the upper bound\n",
    "upper_bound = Q3 + 1.5 * IQR\n",
    "\n",
    "print(f\"Q1: {Q1}\")\n",
    "print(f\"Q3: {Q3}\")\n",
    "print(f\"IQR: {IQR}\")\n",
    "print(f\"Upper Bound: {upper_bound}\")\n"
   ]
  },
  {
   "cell_type": "markdown",
   "id": "b8030810-5eb2-4f1e-8c86-5869017baef1",
   "metadata": {
    "jp-MarkdownHeadingCollapsed": true
   },
   "source": [
    "## zip method"
   ]
  },
  {
   "cell_type": "code",
   "execution_count": 12,
   "id": "a696a80c-4fb8-4b0b-a7c7-8d07a6ca36c3",
   "metadata": {},
   "outputs": [
    {
     "name": "stdout",
     "output_type": "stream",
     "text": [
      "[('Alice', 85), ('Bob', 90), ('Charlie', 88)]\n"
     ]
    }
   ],
   "source": [
    "# Two lists\n",
    "names = ['Alice', 'Bob', 'Charlie']\n",
    "scores = [85, 90, 88]\n",
    "\n",
    "# Combine them using zip\n",
    "zipped = zip(names, scores)\n",
    "\n",
    "# Convert the zip object to a list\n",
    "zipped_list = list(zipped)\n",
    "\n",
    "print(zipped_list)"
   ]
  },
  {
   "cell_type": "markdown",
   "id": "42a2861a-a41b-4f43-9e12-8eee6468f69a",
   "metadata": {
    "jp-MarkdownHeadingCollapsed": true
   },
   "source": [
    "## itertools"
   ]
  },
  {
   "cell_type": "code",
   "execution_count": 13,
   "id": "16c79b0c-0144-4495-b0aa-81d818952dc5",
   "metadata": {},
   "outputs": [
    {
     "name": "stdout",
     "output_type": "stream",
     "text": [
      "[(1, 32, 10), (1, 32, 20), (1, 64, 10), (1, 64, 20), (2, 32, 10), (2, 32, 20), (2, 64, 10), (2, 64, 20), (3, 32, 10), (3, 32, 20), (3, 64, 10), (3, 64, 20)]\n"
     ]
    }
   ],
   "source": [
    "import itertools\n",
    "\n",
    "# Define the input iterables\n",
    "num_neigh = [1, 2, 3]\n",
    "batch_size = [32, 64]\n",
    "epoches = [10, 20]\n",
    "\n",
    "# Generate the Cartesian product\n",
    "combinations = itertools.product(num_neigh, batch_size, epoches)\n",
    "\n",
    "# Convert to list to see all combinations\n",
    "combinations_list = list(combinations)\n",
    "\n",
    "print(combinations_list)"
   ]
  },
  {
   "cell_type": "code",
   "execution_count": null,
   "id": "11432b58-9b79-4a79-8983-53892208986c",
   "metadata": {},
   "outputs": [],
   "source": []
  },
  {
   "cell_type": "code",
   "execution_count": null,
   "id": "b4f4f625-6b47-4e97-9fed-751e0c8b512f",
   "metadata": {},
   "outputs": [],
   "source": []
  },
  {
   "cell_type": "code",
   "execution_count": null,
   "id": "fdca0d45-32ec-4cbc-8c68-b9c0fa20698c",
   "metadata": {},
   "outputs": [],
   "source": []
  },
  {
   "cell_type": "code",
   "execution_count": null,
   "id": "8dda2498-7cf5-4038-b1b9-5df9ddb58504",
   "metadata": {},
   "outputs": [],
   "source": []
  },
  {
   "cell_type": "code",
   "execution_count": null,
   "id": "006c774c-ded0-4226-9640-9240d6fb88e0",
   "metadata": {},
   "outputs": [],
   "source": []
  }
 ],
 "metadata": {
  "kernelspec": {
   "display_name": "Cuda118",
   "language": "python",
   "name": "cuda118"
  },
  "language_info": {
   "codemirror_mode": {
    "name": "ipython",
    "version": 3
   },
   "file_extension": ".py",
   "mimetype": "text/x-python",
   "name": "python",
   "nbconvert_exporter": "python",
   "pygments_lexer": "ipython3",
   "version": "3.12.3"
  }
 },
 "nbformat": 4,
 "nbformat_minor": 5
}
