{
 "cells": [
  {
   "cell_type": "markdown",
   "id": "a0718810-725f-4b22-b0da-e84926f5b24e",
   "metadata": {
    "jp-MarkdownHeadingCollapsed": true
   },
   "source": [
    "## Autoencoders"
   ]
  },
  {
   "cell_type": "markdown",
   "id": "39bb369f-e4df-48d2-a53c-fd4b30041f62",
   "metadata": {
    "vscode": {
     "languageId": "plaintext"
    }
   },
   "source": [
    "https://www.jeremyjordan.me/autoencoders/"
   ]
  },
  {
   "cell_type": "markdown",
   "id": "2843bbe3-e1a7-471f-a49b-ecbdf2c32e59",
   "metadata": {
    "jp-MarkdownHeadingCollapsed": true
   },
   "source": [
    "## VAE"
   ]
  },
  {
   "cell_type": "code",
   "execution_count": null,
   "id": "c2127254-28ca-4c7a-ae76-89a8d31eef4f",
   "metadata": {},
   "outputs": [],
   "source": []
  },
  {
   "cell_type": "markdown",
   "id": "3ace0f25-deb0-4da0-adff-5b6a7736b19a",
   "metadata": {},
   "source": [
    "## GAN"
   ]
  },
  {
   "cell_type": "markdown",
   "id": "e3799e61-ff8d-4a0e-91bb-f04690d9478c",
   "metadata": {},
   "source": [
    "https://towardsdatascience.com/generative-adversarial-networks-explained-34472718707a\n",
    "\n",
    "Generative Adversarial Networks have two parts one is generator and other is discriminator.\n",
    "\n",
    "- **Generate random variables**\n",
    "   - **Inverse transform method**\n",
    "\n",
    "- **Pobability Distribution of a vector**\n",
    "\n",
    "    The probability distribution of a vector refers to the probabilities associated with the different possible outcomes\n",
    "    (or values) that the vector can take.\n",
    "    \n",
    "    For a discrete vector\n",
    "    \n",
    "    For a discrete random vector $X=(X_1,X_2,…,X_n)$, the probability distribution can be described using a\n",
    "    joint probability mass function(pmf), $P(X=x)$, which gives the probability that the vector X takes on a\n",
    "    specific value x.\n",
    "    \n",
    "    **Calculation**\n",
    "    \n",
    "    Suppose $X=(X_1,X_2)$ where $X_1$​ and $X_2$ are binary random variables. If the joint distribution is given by:\n",
    "    \n",
    "    $P(X_1=0,X_2=0)=0.1$\n",
    "    \n",
    "    $P(X_1=0,X_2=1)=0.2$\n",
    "    \n",
    "    $P(X_1=1,X_2=0)=0.3$\n",
    "    \n",
    "    $P(X_1=1,X_2=1)=0.4$\n",
    "    \n",
    "    These probability values could be based emperical calculation -> like calculating the relative frequencies of each outcome\n",
    "    or say deriving them by simulation\n",
    "    \n",
    "    Then, the probability distribution of X is defined by these probabilities.\n"
   ]
  },
  {
   "cell_type": "markdown",
   "id": "9ce5d8a5-8c93-40bb-adc6-bb5459fbb0b4",
   "metadata": {},
   "source": [
    "## Diffusion Models"
   ]
  },
  {
   "cell_type": "markdown",
   "id": "d109eb34-537d-4fa0-88f6-da22dcd9e713",
   "metadata": {},
   "source": [
    "https://erdem.pl/2023/11/step-by-step-visual-introduction-to-diffusion-models"
   ]
  }
 ],
 "metadata": {
  "kernelspec": {
   "display_name": "Cuda118",
   "language": "python",
   "name": "cuda118"
  },
  "language_info": {
   "codemirror_mode": {
    "name": "ipython",
    "version": 3
   },
   "file_extension": ".py",
   "mimetype": "text/x-python",
   "name": "python",
   "nbconvert_exporter": "python",
   "pygments_lexer": "ipython3",
   "version": "3.12.3"
  }
 },
 "nbformat": 4,
 "nbformat_minor": 5
}
