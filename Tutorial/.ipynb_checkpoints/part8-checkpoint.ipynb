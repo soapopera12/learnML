{
 "cells": [
  {
   "cell_type": "markdown",
   "id": "d109eb34-537d-4fa0-88f6-da22dcd9e713",
   "metadata": {},
   "source": [
    "## Autoencoders\n",
    "\n",
    "https://www.jeremyjordan.me/autoencoders/\n",
    "\n",
    "## VAE\n",
    "\n",
    "## GAN\n",
    "\n",
    "https://towardsdatascience.com/generative-adversarial-networks-explained-34472718707a\n",
    "\n",
    "Generative Adversarial Networks have two parts one is generator and other is discriminator.\n",
    "\n",
    "## Diffusion Models\n",
    "\n",
    "https://erdem.pl/2023/11/step-by-step-visual-introduction-to-diffusion-models"
   ]
  }
 ],
 "metadata": {
  "kernelspec": {
   "display_name": "Cuda118",
   "language": "python",
   "name": "cuda118"
  },
  "language_info": {
   "codemirror_mode": {
    "name": "ipython",
    "version": 3
   },
   "file_extension": ".py",
   "mimetype": "text/x-python",
   "name": "python",
   "nbconvert_exporter": "python",
   "pygments_lexer": "ipython3",
   "version": "3.12.3"
  }
 },
 "nbformat": 4,
 "nbformat_minor": 5
}
