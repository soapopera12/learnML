{
 "cells": [
  {
   "cell_type": "markdown",
   "id": "4b7e40a6-f023-42e1-8eb6-a5412d218d8a",
   "metadata": {},
   "source": [
    "## GAN"
   ]
  },
  {
   "cell_type": "markdown",
   "id": "c53354d7-e1ea-4683-bf2a-76ccfa7ea9e3",
   "metadata": {},
   "source": [
    "https://towardsdatascience.com/generative-adversarial-networks-explained-34472718707a"
   ]
  },
  {
   "cell_type": "markdown",
   "id": "de18cb5a-d555-4afc-bf95-1369637cb755",
   "metadata": {},
   "source": [
    "### Generate random variables"
   ]
  },
  {
   "cell_type": "markdown",
   "id": "863ab74d-7638-4ee6-9460-d92baa425b7d",
   "metadata": {},
   "source": [
    "#### Inverse transform method"
   ]
  },
  {
   "cell_type": "markdown",
   "id": "a81eafb1-6339-4e6a-8b96-6333a3b68bc3",
   "metadata": {},
   "source": [
    "### **Generative models**"
   ]
  },
  {
   "cell_type": "markdown",
   "id": "d1971569-6066-42de-94a1-9cb1a8ffdadb",
   "metadata": {},
   "source": [
    "#### **Probability Distribution of a vector**"
   ]
  },
  {
   "cell_type": "markdown",
   "id": "5d92bd2f-8ac7-4c05-b616-5e77b352f301",
   "metadata": {},
   "source": [
    "The probability distribution of a vector refers to the probabilities associated with the different possible outcomes\n",
    "(or values) that the vector can take.\n",
    "\n",
    "For a discrete vector\n",
    "\n",
    "For a discrete random vector $X=(X_1,X_2,…,X_n)$, the probability distribution can be described using a\n",
    "joint probability mass function(pmf), $P(X=x)$, which gives the probability that the vector X takes on a\n",
    "specific value x.\n",
    "\n",
    "**Calculation**\n",
    "\n",
    "Suppose $X=(X_1,X_2)$ where $X_1$​ and $X_2$ are binary random variables. If the joint distribution is given by:\n",
    "\n",
    "$P(X_1​=0,X_2​=0) = 10010 ​= 0.1$\n",
    "\n",
    "$P(X_1=0,X_2=1) = 20100 = 0.2 \\quad P(X_1​=0,X_2​=1) = 10020 ​= 0.2$\n",
    "\n",
    "$P(X_1=1,X_2=0) = 30100 = 0.3 \\quad P(X_1​=1,X_2​=0) = 10030​ = 0.3$\n",
    "\n",
    "$P(X_1=1,X_2=1) = 40100 = 0.4 \\quad P(X_1​=1,X_2​=1) = 10040 ​= 0.4$\n",
    "\n",
    "These probability values could be based emperical calculation but can also calculated using other ways\n",
    "\n",
    "This is the probability distribution of a vector"
   ]
  },
  {
   "cell_type": "markdown",
   "id": "2028e5bd-7e05-4f7d-a495-2eed945e86ec",
   "metadata": {},
   "source": [
    "#### **Generate very complex random variables**"
   ]
  },
  {
   "cell_type": "markdown",
   "id": "d231d605-a7f8-416c-8e4a-d74630abb600",
   "metadata": {},
   "source": [
    "Suppose that we are interested in generating black and white square images of dogs with a size of n by n pixels. \n",
    "\n",
    "We can reshape each data as a N=nxn dimensional vector (by stacking columns on top of each others) such that an image of dog can then be represented by a vector.\n",
    "\n",
    "we can say that the N dimensional vectors that effectively give something that look like a dog are distributed according to a very specific probability distribution over the entire N dimensional vector space\n",
    "\n",
    "Then, the problem of generating a new image of dog is equivalent to the problem of generating a new vector following the “dog probability distribution” over the N dimensional vector space. So we are, in fact, facing a problem of generating a random variable with respect to a specific probability distribution."
   ]
  },
  {
   "cell_type": "code",
   "execution_count": null,
   "id": "4f94dacc-a1f0-45a1-bfba-293a7c934b8a",
   "metadata": {},
   "outputs": [],
   "source": []
  },
  {
   "cell_type": "code",
   "execution_count": null,
   "id": "254d5fc4-b1b0-4f28-9607-eae4df204952",
   "metadata": {},
   "outputs": [],
   "source": []
  },
  {
   "cell_type": "code",
   "execution_count": null,
   "id": "598602c5-5607-48de-b504-81a476c43b62",
   "metadata": {},
   "outputs": [],
   "source": []
  },
  {
   "cell_type": "code",
   "execution_count": null,
   "id": "e292fc46-f9f3-4ce9-bbe5-bc4d0439e053",
   "metadata": {},
   "outputs": [],
   "source": []
  },
  {
   "cell_type": "code",
   "execution_count": null,
   "id": "63e4d276-ef8e-4bdd-b1c9-ad534b104e8b",
   "metadata": {},
   "outputs": [],
   "source": []
  },
  {
   "cell_type": "code",
   "execution_count": null,
   "id": "65c5c468-434f-4ab9-9ca7-50e457542a7c",
   "metadata": {},
   "outputs": [],
   "source": []
  },
  {
   "cell_type": "code",
   "execution_count": null,
   "id": "876d1a7b-132d-4a82-9975-0925211b6ed0",
   "metadata": {},
   "outputs": [],
   "source": []
  },
  {
   "cell_type": "code",
   "execution_count": null,
   "id": "5a6e6d3a-4549-4580-aaca-03711f2b3a5b",
   "metadata": {},
   "outputs": [],
   "source": []
  }
 ],
 "metadata": {
  "kernelspec": {
   "display_name": "Cuda118",
   "language": "python",
   "name": "cuda118"
  },
  "language_info": {
   "codemirror_mode": {
    "name": "ipython",
    "version": 3
   },
   "file_extension": ".py",
   "mimetype": "text/x-python",
   "name": "python",
   "nbconvert_exporter": "python",
   "pygments_lexer": "ipython3",
   "version": "3.12.3"
  }
 },
 "nbformat": 4,
 "nbformat_minor": 5
}
