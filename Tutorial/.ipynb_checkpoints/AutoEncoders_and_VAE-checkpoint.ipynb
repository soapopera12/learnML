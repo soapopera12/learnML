{
 "cells": [
  {
   "cell_type": "markdown",
   "id": "a0718810-725f-4b22-b0da-e84926f5b24e",
   "metadata": {},
   "source": [
    "## Autoencoders"
   ]
  },
  {
   "cell_type": "markdown",
   "id": "39bb369f-e4df-48d2-a53c-fd4b30041f62",
   "metadata": {
    "vscode": {
     "languageId": "plaintext"
    }
   },
   "source": [
    "https://www.jeremyjordan.me/autoencoders/"
   ]
  },
  {
   "cell_type": "markdown",
   "id": "2843bbe3-e1a7-471f-a49b-ecbdf2c32e59",
   "metadata": {},
   "source": [
    "## VAE"
   ]
  }
 ],
 "metadata": {
  "kernelspec": {
   "display_name": "Cuda118",
   "language": "python",
   "name": "cuda118"
  },
  "language_info": {
   "codemirror_mode": {
    "name": "ipython",
    "version": 3
   },
   "file_extension": ".py",
   "mimetype": "text/x-python",
   "name": "python",
   "nbconvert_exporter": "python",
   "pygments_lexer": "ipython3",
   "version": "3.12.3"
  }
 },
 "nbformat": 4,
 "nbformat_minor": 5
}
