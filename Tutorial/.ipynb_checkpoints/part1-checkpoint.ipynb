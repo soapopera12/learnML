{
 "cells": [
  {
   "cell_type": "markdown",
   "metadata": {},
   "source": [
    "A Quick Guide to Understanding the Basics of Machine Learning\n",
    "\n",
    "This guide was created using blogs, my own understanding, and of course, ChatGPT. If you find any mistakes, please feel free to reach out."
   ]
  },
  {
   "cell_type": "markdown",
   "metadata": {
    "jp-MarkdownHeadingCollapsed": true
   },
   "source": [
    "### What is a derivative?"
   ]
  },
  {
   "cell_type": "markdown",
   "metadata": {},
   "source": [
    "A derivative of a function represents the rate at which a function's value changes as its input changes. In simpler terms, the derivative measures how a function's output changes in response to changes in its input.\n",
    "\n",
    "Let’s look at the formula\n",
    "\n",
    "$f'(x) = \\frac{df}{dx} = lim_{h \\rightarrow 0} \\frac{f(x+h) - f(x)}{h}$\n",
    "\n",
    "Also remember the formula of slope $= \\frac{y_2 - y_1}{x_2 - x_1}$\n",
    "\n",
    "h is the change in x, so basically the formula give you this slope of the secant line where $y_1$ = f(x) and $y_2$ =  f(x + h).\n",
    "\n",
    "Now once you have the slope of this line you can decide how much length you want to travel on this down this line. This ‘how much’ is basically learning rate.\n",
    "\n",
    "<div>\n",
    "  <img src=\"Images/derivation.png\" alt=\"secant line\" style=\"width: 500px; height: 300px;\">\n",
    "</div>"
   ]
  },
  {
   "cell_type": "markdown",
   "metadata": {
    "jp-MarkdownHeadingCollapsed": true
   },
   "source": [
    "### What are the rules of differentiation?"
   ]
  },
  {
   "cell_type": "markdown",
   "metadata": {},
   "source": [
    "1. Sum rule\n",
    "    \n",
    "    $\\frac{d}{dx}(f(x) + g(x)) = \\frac{df}{dx} + \\frac{dg}{dx}$\n",
    "    \n",
    "2. Product rule\n",
    "    \n",
    "    $\\frac{d}{dx}(f(x).g(x)) = \\frac{df}{dx}.g(x) + \\frac{dg}{dx}.f(x)$\n",
    "    \n",
    "3. Chain rule\n",
    "    \n",
    "    $\\frac{d}{dx}(g \\circ f)(x) = \\frac{d}{dx}(g(f(x)) = \\frac{dg}{dx} \\frac{df}{dx}$"
   ]
  },
  {
   "cell_type": "markdown",
   "metadata": {
    "jp-MarkdownHeadingCollapsed": true
   },
   "source": [
    "### That’s it, this math is fuckin enough to get you started for now you can skip linear algebra for now"
   ]
  },
  {
   "cell_type": "markdown",
   "metadata": {},
   "source": [
    "### Linear Algebra"
   ]
  },
  {
   "cell_type": "markdown",
   "metadata": {},
   "source": [
    "https://medium.com/infinity-aka-aseem/summarizing-the-essence-of-linear-algebra-336d38add643\n",
    "\n",
    "*Vector*\n",
    "    \n",
    "    In Machine learning we assume all vectors are rooted at the origin\n",
    "\n",
    "*Span*\n",
    "\n",
    "    The span of two vectors v and w is the set of all their linear combinations i.e. av + bw.\n",
    "\n",
    "*Matrix and linear transformation*\n",
    "\n",
    "    matrix vector multiplication is a simple way of telling what transformation a matrix does to a vector.\n",
    "\n",
    "*Determinant*\n",
    "\n",
    "    The factor by which the area of the basis vector is changed is called the determinant. This is because transformations tend to squish or stretch space\n",
    "\n",
    "*column space*\n",
    "\n",
    "*null space*\n",
    "\n",
    "*Rank*\n",
    "\n",
    "*non-square matrix*\n",
    "\n",
    "*Inverse matrix*\n",
    "\n",
    "*Column space*\n",
    "\n",
    "*Null space*\n",
    "\n",
    "*eigenvector and eigenvalue*\n",
    "    \n",
    "    For a transformation or a Matrix M there can be vector/vectors which only scale but do not change their direction (do not transform) these vectors are eigenvectors and the value by which they get scaled is called eigenvalue."
   ]
  },
  {
   "cell_type": "markdown",
   "metadata": {},
   "source": []
  },
  {
   "cell_type": "markdown",
   "metadata": {},
   "source": []
  },
  {
   "cell_type": "markdown",
   "metadata": {},
   "source": []
  },
  {
   "cell_type": "markdown",
   "metadata": {},
   "source": []
  },
  {
   "cell_type": "markdown",
   "metadata": {},
   "source": []
  },
  {
   "cell_type": "markdown",
   "metadata": {},
   "source": []
  },
  {
   "cell_type": "markdown",
   "metadata": {},
   "source": []
  },
  {
   "cell_type": "markdown",
   "metadata": {},
   "source": []
  },
  {
   "cell_type": "markdown",
   "metadata": {},
   "source": []
  },
  {
   "cell_type": "markdown",
   "metadata": {},
   "source": []
  },
  {
   "cell_type": "markdown",
   "metadata": {},
   "source": []
  },
  {
   "cell_type": "markdown",
   "metadata": {},
   "source": []
  },
  {
   "cell_type": "markdown",
   "metadata": {},
   "source": []
  },
  {
   "cell_type": "markdown",
   "metadata": {},
   "source": []
  },
  {
   "cell_type": "markdown",
   "metadata": {},
   "source": []
  }
 ],
 "metadata": {
  "kernelspec": {
   "display_name": "",
   "name": ""
  },
  "language_info": {
   "name": "python"
  }
 },
 "nbformat": 4,
 "nbformat_minor": 4
}
